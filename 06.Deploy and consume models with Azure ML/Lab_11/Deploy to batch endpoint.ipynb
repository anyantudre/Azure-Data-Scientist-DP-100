{
  "cells": [
    {
      "attachments": {},
      "cell_type": "markdown",
      "metadata": {},
      "source": [
        "# Deploy to an batch endpoint\n",
        "\n",
        "Imagine a health clinic takes patient measurements all day, saving the details for each patient in a separate file. Then overnight, the diabetes prediction model can be used to process all of the day's patient data as a batch, generating predictions that will be waiting the following morning so that the clinic can follow up with patients who are predicted to be at risk of diabetes. With Azure Machine Learning, you can accomplish this by creating a batch endpoint; and that's what you'll implement in this exercise.\n",
        "\n",
        "## Before you start\n",
        "\n",
        "You'll need the latest version of the  **azure-ai-ml** package to run the code in this notebook. Run the cell below to verify that it is installed.\n",
        "\n",
        "> **Note**:\n",
        "> If the **azure-ai-ml** package is not installed, run `pip install azure-ai-ml` to install it."
      ]
    },
    {
      "cell_type": "code",
      "execution_count": 1,
      "metadata": {
        "gather": {
          "logged": 1667816557578
        }
      },
      "outputs": [
        {
          "name": "stdout",
          "output_type": "stream",
          "text": [
            "Name: azure-ai-ml\n",
            "Version: 1.23.0\n",
            "Summary: Microsoft Azure Machine Learning Client Library for Python\n",
            "Home-page: https://github.com/Azure/azure-sdk-for-python\n",
            "Author: Microsoft Corporation\n",
            "Author-email: azuresdkengsysadmins@microsoft.com\n",
            "License: MIT License\n",
            "Location: /anaconda/envs/azureml_py38/lib/python3.10/site-packages\n",
            "Requires: azure-common, azure-core, azure-mgmt-core, azure-storage-blob, azure-storage-file-datalake, azure-storage-file-share, colorama, isodate, jsonschema, marshmallow, msrest, opencensus-ext-azure, opencensus-ext-logging, pydash, pyjwt, pyyaml, strictyaml, tqdm, typing-extensions\n",
            "Required-by: \n",
            "Note: you may need to restart the kernel to use updated packages.\n"
          ]
        }
      ],
      "source": [
        "pip show azure-ai-ml"
      ]
    },
    {
      "attachments": {},
      "cell_type": "markdown",
      "metadata": {},
      "source": [
        "## Connect to your workspace\n",
        "\n",
        "With the required SDK packages installed, now you're ready to connect to your workspace.\n",
        "\n",
        "To connect to a workspace, we need identifier parameters - a subscription ID, resource group name, and workspace name. Since you're working with a compute instance, managed by Azure Machine Learning, you can use the default values to connect to the workspace."
      ]
    },
    {
      "cell_type": "code",
      "execution_count": 2,
      "metadata": {
        "gather": {
          "logged": 1667816564779
        }
      },
      "outputs": [],
      "source": [
        "from azure.identity import DefaultAzureCredential, InteractiveBrowserCredential\n",
        "from azure.ai.ml import MLClient\n",
        "\n",
        "try:\n",
        "    credential = DefaultAzureCredential()\n",
        "    # Check if given credential can get token successfully.\n",
        "    credential.get_token(\"https://management.azure.com/.default\")\n",
        "except Exception as ex:\n",
        "    # Fall back to InteractiveBrowserCredential in case DefaultAzureCredential not work\n",
        "    credential = InteractiveBrowserCredential()"
      ]
    },
    {
      "cell_type": "code",
      "execution_count": 3,
      "metadata": {
        "gather": {
          "logged": 1667816570921
        }
      },
      "outputs": [
        {
          "name": "stderr",
          "output_type": "stream",
          "text": [
            "Found the config file in: /config.json\n"
          ]
        }
      ],
      "source": [
        "# Get a handle to workspace\n",
        "ml_client = MLClient.from_config(credential=credential)"
      ]
    },
    {
      "attachments": {},
      "cell_type": "markdown",
      "metadata": {
        "nteract": {
          "transient": {
            "deleting": false
          }
        }
      },
      "source": [
        "## Register the model\n",
        "\n",
        "Batch deployments can only deploy models registered in the workspace. You'll register an MLflow model, which is stored in the local `model` folder. "
      ]
    },
    {
      "cell_type": "code",
      "execution_count": 4,
      "metadata": {
        "gather": {
          "logged": 1667816601458
        },
        "jupyter": {
          "outputs_hidden": false,
          "source_hidden": false
        },
        "nteract": {
          "transient": {
            "deleting": false
          }
        }
      },
      "outputs": [],
      "source": [
        "from azure.ai.ml.entities import Model\n",
        "from azure.ai.ml.constants import AssetTypes\n",
        "\n",
        "model_name = 'diabetes-mlflow'\n",
        "model = ml_client.models.create_or_update(\n",
        "    Model(\n",
        "        name=model_name, \n",
        "        path='Users/anyantudre/azure-ml-labs/Labs/11/model', \n",
        "        type=AssetTypes.MLFLOW_MODEL\n",
        "    )\n",
        ")"
      ]
    },
    {
      "attachments": {},
      "cell_type": "markdown",
      "metadata": {
        "nteract": {
          "transient": {
            "deleting": false
          }
        }
      },
      "source": [
        "## Create a batch endpoint\n",
        "\n",
        "A batch endpoint is an HTTPS endpoint that applications can call to trigger a batch scoring job. A batch endpoint name needs to be unique within an Azure region. You'll use the `datetime` function to generate a unique name based on the current date and time. "
      ]
    },
    {
      "cell_type": "code",
      "execution_count": 5,
      "metadata": {
        "gather": {
          "logged": 1667817132589
        },
        "jupyter": {
          "outputs_hidden": false,
          "source_hidden": false
        },
        "nteract": {
          "transient": {
            "deleting": false
          }
        }
      },
      "outputs": [
        {
          "data": {
            "text/plain": [
              "'batch-12260051002706'"
            ]
          },
          "execution_count": 5,
          "metadata": {},
          "output_type": "execute_result"
        }
      ],
      "source": [
        "import datetime\n",
        "\n",
        "endpoint_name = \"batch-\" + datetime.datetime.now().strftime(\"%m%d%H%M%f\")\n",
        "endpoint_name"
      ]
    },
    {
      "attachments": {},
      "cell_type": "markdown",
      "metadata": {},
      "source": [
        "To create an endpoint with the `BatchEndpoint` class, you need to specify the name and optionally a description. After creating an endpoint, you'll deploy a model to the endpoint."
      ]
    },
    {
      "cell_type": "code",
      "execution_count": 6,
      "metadata": {
        "gather": {
          "logged": 1667817134786
        },
        "jupyter": {
          "outputs_hidden": false,
          "source_hidden": false
        },
        "nteract": {
          "transient": {
            "deleting": false
          }
        }
      },
      "outputs": [
        {
          "data": {
            "text/plain": [
              "<azure.core.polling._poller.LROPoller at 0x7fab918cf6a0>"
            ]
          },
          "execution_count": 6,
          "metadata": {},
          "output_type": "execute_result"
        }
      ],
      "source": [
        "from azure.ai.ml.entities import BatchEndpoint\n",
        "\n",
        "# create a batch endpoint\n",
        "endpoint = BatchEndpoint(\n",
        "    name=endpoint_name,\n",
        "    description=\"A batch endpoint for classifying diabetes in patients\",\n",
        ")\n",
        "\n",
        "ml_client.batch_endpoints.begin_create_or_update(endpoint)"
      ]
    },
    {
      "attachments": {},
      "cell_type": "markdown",
      "metadata": {
        "nteract": {
          "transient": {
            "deleting": false
          }
        }
      },
      "source": [
        "<p style=\"color:red;font-size:120%;background-color:yellow;font-weight:bold\"> IMPORTANT! Wait until the endpoint is created before continuing! A green notification should appear in the studio. </p>\n",
        "\n",
        "## Create the deployment\n",
        "\n",
        "A deployment is a set of resources required for hosting the model that does the actual inferencing. We will create a deployment for our endpoint using the `BatchDeployment` class. \n",
        "\n",
        "Since you're deploying an MLflow model, you don't need a scoring script or define the environment. Azure Machine Learning will automatically create those assets for you. The `MLmodel` file in the `model` folder is used to understand what the expected inputs and outputs are of the model.\n",
        "\n",
        "You'll deploy a model with the following parameters:\n",
        "\n",
        "- `name`: Name of the deployment.\n",
        "- `description`: Optional description to further clarify what the deployment represents.\n",
        "- `endpoint_name`: Name of the previously created endpoint the model should be deployed to.\n",
        "- `model`: Name of the registered model.\n",
        "- `compute`: Compute to be used when invoking the deployed model to generate predictions.\n",
        "- `instance_count`: Count of compute nodes to use for generating predictions.\n",
        "- `max_concurrency_per_instance`: Maximum number of parallel scoring script runs per compute node.\n",
        "- `mini_batch_size`: Number of files passed per scoring script run.\n",
        "- `output_action`: Each new prediction will be appended as a new row to the output file.\n",
        "- `output_file_name`: File to which predictions will be appended.\n",
        "- `retry_settings`: Settings for a mini-batch fails.\n",
        "- `logging_level`: The log verbosity level. Allowed values are `warning`, `info`, and `debug`. \n",
        "\n",
        "Running the following cell will configure and create the deployment."
      ]
    },
    {
      "cell_type": "code",
      "execution_count": 8,
      "metadata": {
        "gather": {
          "logged": 1667817147601
        },
        "jupyter": {
          "outputs_hidden": false,
          "source_hidden": false
        },
        "nteract": {
          "transient": {
            "deleting": false
          }
        }
      },
      "outputs": [
        {
          "data": {
            "text/plain": [
              "<azure.core.polling._poller.LROPoller at 0x7fab91905c00>"
            ]
          },
          "execution_count": 8,
          "metadata": {},
          "output_type": "execute_result"
        }
      ],
      "source": [
        "from azure.ai.ml.entities import BatchDeployment, BatchRetrySettings\n",
        "from azure.ai.ml.constants import BatchDeploymentOutputAction\n",
        "\n",
        "deployment = BatchDeployment(\n",
        "    name=\"classifier-diabetes-mlflow\",\n",
        "    description=\"A diabetes classifier\",\n",
        "    endpoint_name=endpoint.name,\n",
        "    model=model,\n",
        "    compute=\"aml-cluster\",\n",
        "    instance_count=2,\n",
        "    max_concurrency_per_instance=2,\n",
        "    mini_batch_size=2,\n",
        "    output_action=BatchDeploymentOutputAction.APPEND_ROW,\n",
        "    output_file_name=\"predictions.csv\",\n",
        "    retry_settings=BatchRetrySettings(max_retries=3, timeout=300),\n",
        "    logging_level=\"info\",\n",
        ")\n",
        "ml_client.batch_deployments.begin_create_or_update(deployment)"
      ]
    },
    {
      "attachments": {},
      "cell_type": "markdown",
      "metadata": {},
      "source": [
        "<p style=\"color:red;font-size:120%;background-color:yellow;font-weight:bold\"> IMPORTANT! Wait until the deployment is completed before continuing! A green notification should appear in the studio. </p>\n",
        "\n",
        "You can deploy multiple models to an endpoint. You can set the default deployment to specify which model should be used by default when calling a batch endpoint."
      ]
    },
    {
      "cell_type": "code",
      "execution_count": 10,
      "metadata": {
        "gather": {
          "logged": 1667816665145
        },
        "jupyter": {
          "outputs_hidden": false,
          "source_hidden": false
        },
        "nteract": {
          "transient": {
            "deleting": false
          }
        }
      },
      "outputs": [
        {
          "data": {
            "text/plain": [
              "<azure.core.polling._poller.LROPoller at 0x7fab91904d60>"
            ]
          },
          "execution_count": 10,
          "metadata": {},
          "output_type": "execute_result"
        }
      ],
      "source": [
        "endpoint.defaults = {}\n",
        "\n",
        "endpoint.defaults[\"deployment_name\"] = deployment.name\n",
        "\n",
        "ml_client.batch_endpoints.begin_create_or_update(endpoint)"
      ]
    },
    {
      "attachments": {},
      "cell_type": "markdown",
      "metadata": {},
      "source": [
        "<p style=\"color:red;font-size:120%;background-color:yellow;font-weight:bold\"> IMPORTANT! Wait until the default deployment is set before continuing! A green notification should appear in the studio. </p>\n",
        "\n",
        "## Prepare the data for batch predictions\n",
        "\n",
        "In the `data` folder you'll find CSV files with unlabeled data. You'll create a data asset that points to the files in the `data` folder, which you'll use as input for the batch job."
      ]
    },
    {
      "cell_type": "code",
      "execution_count": 12,
      "metadata": {
        "gather": {
          "logged": 1667816672949
        },
        "jupyter": {
          "outputs_hidden": false,
          "source_hidden": false
        },
        "nteract": {
          "transient": {
            "deleting": false
          }
        }
      },
      "outputs": [
        {
          "name": "stderr",
          "output_type": "stream",
          "text": [
            "Uploading data (0.02 MBs): 100%|██████████| 17119/17119 [00:00<00:00, 641028.92it/s]\n",
            "\n",
            "\n"
          ]
        },
        {
          "data": {
            "text/plain": [
              "Data({'path': 'azureml://subscriptions/14036524-32ca-449c-9c05-25182eeb460b/resourcegroups/learnazureml/workspaces/az-learn-workspace/datastores/workspaceblobstore/paths/LocalUpload/4badec4dfe88902995b0ba1a67686a00/data/', 'skip_validation': False, 'mltable_schema_url': None, 'referenced_uris': None, 'type': 'uri_folder', 'is_anonymous': False, 'auto_increment_version': False, 'auto_delete_setting': None, 'name': 'patient-data-unlabeled', 'description': 'An unlabeled dataset for diabetes classification', 'tags': {}, 'properties': {}, 'print_as_yaml': False, 'id': '/subscriptions/14036524-32ca-449c-9c05-25182eeb460b/resourceGroups/learnazureml/providers/Microsoft.MachineLearningServices/workspaces/az-learn-workspace/data/patient-data-unlabeled/versions/1', 'Resource__source_path': '', 'base_path': '/mnt/batch/tasks/shared/LS_root/mounts/clusters/learnazmlcompute/code', 'creation_context': <azure.ai.ml.entities._system_data.SystemData object at 0x7fab7ae809d0>, 'serialize': <msrest.serialization.Serializer object at 0x7fab7ae80610>, 'version': '1', 'latest_version': None, 'datastore': None})"
            ]
          },
          "execution_count": 12,
          "metadata": {},
          "output_type": "execute_result"
        }
      ],
      "source": [
        "from azure.ai.ml.entities import Data\n",
        "from azure.ai.ml.constants import AssetTypes\n",
        "\n",
        "data_path = \"Users/anyantudre/azure-ml-labs/Labs/11/data\"\n",
        "dataset_name = \"patient-data-unlabeled\"\n",
        "\n",
        "patient_dataset_unlabeled = Data(\n",
        "    path=data_path,\n",
        "    type=AssetTypes.URI_FOLDER,\n",
        "    description=\"An unlabeled dataset for diabetes classification\",\n",
        "    name=dataset_name,\n",
        ")\n",
        "ml_client.data.create_or_update(patient_dataset_unlabeled)"
      ]
    },
    {
      "cell_type": "code",
      "execution_count": 13,
      "metadata": {
        "gather": {
          "logged": 1667816675432
        },
        "jupyter": {
          "outputs_hidden": false,
          "source_hidden": false
        },
        "nteract": {
          "transient": {
            "deleting": false
          }
        }
      },
      "outputs": [],
      "source": [
        "patient_dataset_unlabeled = ml_client.data.get(\n",
        "    name=\"patient-data-unlabeled\", label=\"latest\"\n",
        ")"
      ]
    },
    {
      "attachments": {},
      "cell_type": "markdown",
      "metadata": {},
      "source": [
        "## Submit the job\n",
        "\n",
        "Now that you have deployed a model to a batch endpoint, and have an unlabeled data asset, you're ready to invoke the endpoint to generate predictions on the unlabeled data.\n",
        "\n",
        "First, you'll define the input by referring to the registered data asset. Then, you'll invoke the endpoint, which will submit a pipeline job. You can use the job URL to monitor it in the Studio. The job will contain a child job that represents the running of the (generated) scoring script to get the predictions."
      ]
    },
    {
      "cell_type": "code",
      "execution_count": 14,
      "metadata": {
        "gather": {
          "logged": 1667816677507
        },
        "jupyter": {
          "outputs_hidden": false,
          "source_hidden": false
        },
        "nteract": {
          "transient": {
            "deleting": false
          }
        }
      },
      "outputs": [],
      "source": [
        "from azure.ai.ml import Input\n",
        "from azure.ai.ml.constants import AssetTypes\n",
        "\n",
        "input = Input(type=AssetTypes.URI_FOLDER, path=patient_dataset_unlabeled.id)"
      ]
    },
    {
      "cell_type": "code",
      "execution_count": 15,
      "metadata": {
        "gather": {
          "logged": 1667817161221
        },
        "jupyter": {
          "outputs_hidden": false,
          "source_hidden": false
        },
        "nteract": {
          "transient": {
            "deleting": false
          }
        }
      },
      "outputs": [
        {
          "data": {
            "text/html": [
              "<table style=\"width:100%\"><tr><th>Experiment</th><th>Name</th><th>Type</th><th>Status</th><th>Details Page</th></tr><tr><td>batch-12260051002706</td><td>batchjob-6024d8bd-daab-412a-975b-1080a2ecc3e7</td><td>pipeline</td><td>Preparing</td><td><a href=\"https://ml.azure.com/runs/batchjob-6024d8bd-daab-412a-975b-1080a2ecc3e7?wsid=/subscriptions/14036524-32ca-449c-9c05-25182eeb460b/resourcegroups/learnazureml/workspaces/az-learn-workspace&amp;tid=1759cb84-335b-42f0-841f-32b443e2ade1\" target=\"_blank\" rel=\"noopener\">Link to Azure Machine Learning studio</a></td></tr></table>"
            ],
            "text/plain": [
              "PipelineJob({'inputs': {}, 'outputs': {}, 'jobs': {}, 'component': PipelineComponent({'latest_version': None, 'intellectual_property': None, 'auto_increment_version': False, 'source': 'REMOTE.WORKSPACE.JOB', 'is_anonymous': True, 'auto_delete_setting': None, 'name': 'azureml_anonymous', 'description': \"Attempting to create pipeline submission settings for endpoint: 'batch-12260051002706', deployment: 'classifier-diabetes-mlflow'.\", 'tags': {}, 'properties': {}, 'print_as_yaml': False, 'id': None, 'Resource__source_path': None, 'base_path': '/mnt/batch/tasks/shared/LS_root/mounts/clusters/learnazmlcompute/code', 'creation_context': None, 'serialize': <msrest.serialization.Serializer object at 0x7fab7ae801c0>, 'version': '1', 'schema': None, 'type': 'pipeline', 'display_name': 'nifty_garage_hnkpg185', 'is_deterministic': None, 'inputs': {}, 'outputs': {}, 'yaml_str': None, 'other_parameter': {}, 'jobs': {}, 'job_types': {}, 'job_sources': {}, 'source_job_id': None}), 'type': 'pipeline', 'status': 'Preparing', 'log_files': None, 'name': 'batchjob-6024d8bd-daab-412a-975b-1080a2ecc3e7', 'description': \"Attempting to create pipeline submission settings for endpoint: 'batch-12260051002706', deployment: 'classifier-diabetes-mlflow'.\", 'tags': {'outputType': 'output_data', 'output_data_name': None, 'inputType': 'input_data', 'azureml.batchrun': 'true', 'azureml.deploymentname': 'classifier-diabetes-mlflow', 'azureml.jobtype': 'azureml.batchjob'}, 'properties': {'azureml.deploymentname': 'classifier-diabetes-mlflow', 'azureml.endpointname': 'batch-12260051002706', 'azureml.pipelineid': '8f0a4141-d11b-4ba3-bc00-4b723f9b2bcf', 'azureml.runsource': 'azureml.PipelineRun', 'runSource': 'Unavailable', 'runType': 'HTTP', 'azureml.parameters': '{\"run_max_try\":\"3\",\"run_invocation_timeout\":\"300\",\"mini_batch_size\":\"2\",\"error_threshold\":\"-1\",\"logging_level\":\"INFO\",\"process_count_per_node\":\"2\",\"NodeCount\":\"2\",\"append_row_file_name\":\"predictions.csv\"}', 'azureml.continue_on_step_failure': 'False', 'azureml.continue_on_failed_optional_input': 'False', 'azureml.pipelineComponent': 'pipelinerun'}, 'print_as_yaml': False, 'id': '/subscriptions/14036524-32ca-449c-9c05-25182eeb460b/resourceGroups/learnazureml/providers/Microsoft.MachineLearningServices/workspaces/az-learn-workspace/jobs/batchjob-6024d8bd-daab-412a-975b-1080a2ecc3e7', 'Resource__source_path': '', 'base_path': '/mnt/batch/tasks/shared/LS_root/mounts/clusters/learnazmlcompute/code', 'creation_context': <azure.ai.ml.entities._system_data.SystemData object at 0x7fab7ae80dc0>, 'serialize': <msrest.serialization.Serializer object at 0x7fab7ae81090>, 'display_name': 'nifty_garage_hnkpg185', 'experiment_name': 'batch-12260051002706', 'compute': None, 'services': {'Tracking': {'endpoint': 'azureml://eastus2.api.azureml.ms/mlflow/v1.0/subscriptions/14036524-32ca-449c-9c05-25182eeb460b/resourceGroups/learnazureml/providers/Microsoft.MachineLearningServices/workspaces/az-learn-workspace?', 'type': 'Tracking'}, 'Studio': {'endpoint': 'https://ml.azure.com/runs/batchjob-6024d8bd-daab-412a-975b-1080a2ecc3e7?wsid=/subscriptions/14036524-32ca-449c-9c05-25182eeb460b/resourcegroups/learnazureml/workspaces/az-learn-workspace&tid=1759cb84-335b-42f0-841f-32b443e2ade1', 'type': 'Studio'}}, 'settings': {}, 'identity': None, 'default_code': None, 'default_environment': None})"
            ]
          },
          "execution_count": 15,
          "metadata": {},
          "output_type": "execute_result"
        }
      ],
      "source": [
        "job = ml_client.batch_endpoints.invoke(\n",
        "    endpoint_name=endpoint.name, \n",
        "    input=input)\n",
        "\n",
        "ml_client.jobs.get(job.name)"
      ]
    },
    {
      "attachments": {},
      "cell_type": "markdown",
      "metadata": {},
      "source": [
        "## Get the results\n",
        "\n",
        "When the pipeline job that invokes the batch endpoint is completed, you can view the results. All predictions are collected in the `predictions.csv` file that is stored in the default datastore. You can download the file and visualize the data by running the following cells. "
      ]
    },
    {
      "cell_type": "code",
      "execution_count": 20,
      "metadata": {
        "gather": {
          "logged": 1667817536367
        },
        "jupyter": {
          "outputs_hidden": false,
          "source_hidden": false
        },
        "nteract": {
          "transient": {
            "deleting": false
          }
        }
      },
      "outputs": [
        {
          "name": "stderr",
          "output_type": "stream",
          "text": [
            "Downloading artifact azureml://datastores/workspaceblobstore/paths/azureml/361a2b3c-2df5-41f0-b035-6453b916ba9a/score/ to .\n"
          ]
        }
      ],
      "source": [
        "ml_client.jobs.download(name=job.name, download_path=\".\", output_name=\"score\")"
      ]
    },
    {
      "cell_type": "code",
      "execution_count": 21,
      "metadata": {
        "gather": {
          "logged": 1667817544534
        },
        "jupyter": {
          "outputs_hidden": false,
          "source_hidden": false
        },
        "nteract": {
          "transient": {
            "deleting": false
          }
        }
      },
      "outputs": [],
      "source": [
        "with open(\"predictions.csv\", \"r\") as f:\n",
        "    data = f.read()"
      ]
    },
    {
      "cell_type": "code",
      "execution_count": 22,
      "metadata": {
        "gather": {
          "logged": 1667817550830
        },
        "jupyter": {
          "outputs_hidden": false,
          "source_hidden": false
        },
        "nteract": {
          "transient": {
            "deleting": false
          }
        }
      },
      "outputs": [
        {
          "ename": "SyntaxError",
          "evalue": "invalid decimal literal (<unknown>, line 1)",
          "output_type": "error",
          "traceback": [
            "Traceback \u001b[0;36m(most recent call last)\u001b[0m:\n",
            "\u001b[0m  File \u001b[1;32m/anaconda/envs/azureml_py38/lib/python3.10/site-packages/IPython/core/interactiveshell.py:3577\u001b[0m in \u001b[1;35mrun_code\u001b[0m\n    exec(code_obj, self.user_global_ns, self.user_ns)\u001b[0m\n",
            "\u001b[0m  Cell \u001b[1;32mIn[22], line 5\u001b[0m\n    literal_eval(data.replace(\"\\n\", \",\")), columns=[\"file\", \"prediction\"]\u001b[0m\n",
            "\u001b[0m  File \u001b[1;32m/anaconda/envs/azureml_py38/lib/python3.10/ast.py:64\u001b[0m in \u001b[1;35mliteral_eval\u001b[0m\n    node_or_string = parse(node_or_string.lstrip(\" \\t\"), mode='eval')\u001b[0m\n",
            "\u001b[0;36m  File \u001b[0;32m/anaconda/envs/azureml_py38/lib/python3.10/ast.py:50\u001b[0;36m in \u001b[0;35mparse\u001b[0;36m\n\u001b[0;31m    return compile(source, filename, mode, flags,\u001b[0;36m\n",
            "\u001b[0;36m  File \u001b[0;32m<unknown>:1\u001b[0;36m\u001b[0m\n\u001b[0;31m    0,1,patient-data-0.csv,1,1,patient-data-0.csv,2,1,patient-data-0.csv,3,1,patient-data-0.csv,4,1,patient-data-0.csv,5,1,patient-data-0.csv,6,1,patient-data-0.csv,7,1,patient-data-0.csv,8,1,patient-data-0.csv,9,1,patient-data-0.csv,10,1,patient-data-0.csv,11,1,patient-data-0.csv,12,1,patient-data-0.csv,13,1,patient-data-0.csv,14,1,patient-data-0.csv,15,1,patient-data-0.csv,16,1,patient-data-0.csv,17,1,patient-data-0.csv,18,1,patient-data-0.csv,19,1,patient-data-0.csv,20,1,patient-data-0.csv,21,1,patient-data-0.csv,22,1,patient-data-0.csv,23,1,patient-data-0.csv,24,1,patient-data-0.csv,25,1,patient-data-0.csv,26,1,patient-data-0.csv,27,1,patient-data-0.csv,28,1,patient-data-0.csv,29,1,patient-data-0.csv,30,1,patient-data-0.csv,31,1,patient-data-0.csv,32,1,patient-data-0.csv,33,1,patient-data-0.csv,34,1,patient-data-0.csv,35,1,patient-data-0.csv,36,1,patient-data-0.csv,37,1,patient-data-0.csv,38,1,patient-data-0.csv,39,1,patient-data-0.csv,40,1,patient-data-0.csv,41,1,patient-data-0.csv,42,1,patient-data-0.csv,43,1,patient-data-0.csv,44,1,patient-data-0.csv,45,1,patient-data-0.csv,46,1,patient-data-0.csv,47,1,patient-data-0.csv,48,1,patient-data-0.csv,49,1,patient-data-0.csv,50,1,patient-data-0.csv,51,1,patient-data-0.csv,52,1,patient-data-0.csv,53,1,patient-data-0.csv,54,1,patient-data-0.csv,55,1,patient-data-0.csv,56,1,patient-data-0.csv,57,1,patient-data-0.csv,58,1,patient-data-0.csv,59,1,patient-data-0.csv,60,1,patient-data-0.csv,61,1,patient-data-0.csv,62,1,patient-data-0.csv,63,1,patient-data-0.csv,64,1,patient-data-0.csv,65,1,patient-data-0.csv,66,1,patient-data-0.csv,67,1,patient-data-0.csv,68,1,patient-data-0.csv,69,1,patient-data-0.csv,70,1,patient-data-0.csv,71,1,patient-data-0.csv,72,1,patient-data-0.csv,73,1,patient-data-0.csv,74,1,patient-data-0.csv,75,1,patient-data-0.csv,76,1,patient-data-0.csv,77,1,patient-data-0.csv,78,1,patient-data-0.csv,79,1,patient-data-0.csv,80,1,patient-data-0.csv,81,1,patient-data-0.csv,82,1,patient-data-0.csv,83,1,patient-data-0.csv,84,1,patient-data-0.csv,85,1,patient-data-0.csv,86,1,patient-data-0.csv,87,1,patient-data-0.csv,88,1,patient-data-0.csv,89,1,patient-data-0.csv,90,1,patient-data-0.csv,91,1,patient-data-0.csv,92,1,patient-data-0.csv,93,1,patient-data-0.csv,94,1,patient-data-0.csv,95,1,patient-data-0.csv,96,1,patient-data-0.csv,97,1,patient-data-0.csv,98,1,patient-data-0.csv,99,1,patient-data-0.csv,0,1,patient-data-1.csv,1,1,patient-data-1.csv,2,1,patient-data-1.csv,3,1,patient-data-1.csv,4,1,patient-data-1.csv,5,1,patient-data-1.csv,6,1,patient-data-1.csv,7,1,patient-data-1.csv,8,1,patient-data-1.csv,9,1,patient-data-1.csv,10,1,patient-data-1.csv,11,1,patient-data-1.csv,12,1,patient-data-1.csv,13,1,patient-data-1.csv,14,1,patient-data-1.csv,15,1,patient-data-1.csv,16,1,patient-data-1.csv,17,1,patient-data-1.csv,18,1,patient-data-1.csv,19,1,patient-data-1.csv,20,1,patient-data-1.csv,21,1,patient-data-1.csv,22,1,patient-data-1.csv,23,1,patient-data-1.csv,24,1,patient-data-1.csv,25,1,patient-data-1.csv,26,1,patient-data-1.csv,27,1,patient-data-1.csv,28,1,patient-data-1.csv,29,1,patient-data-1.csv,30,1,patient-data-1.csv,31,1,patient-data-1.csv,32,1,patient-data-1.csv,33,1,patient-data-1.csv,34,1,patient-data-1.csv,35,1,patient-data-1.csv,36,1,patient-data-1.csv,37,1,patient-data-1.csv,38,1,patient-data-1.csv,39,1,patient-data-1.csv,40,1,patient-data-1.csv,41,1,patient-data-1.csv,42,1,patient-data-1.csv,43,1,patient-data-1.csv,44,1,patient-data-1.csv,45,1,patient-data-1.csv,46,1,patient-data-1.csv,47,1,patient-data-1.csv,48,1,patient-data-1.csv,49,1,patient-data-1.csv,50,1,patient-data-1.csv,51,1,patient-data-1.csv,52,1,patient-data-1.csv,53,1,patient-data-1.csv,54,1,patient-data-1.csv,55,1,patient-data-1.csv,56,1,patient-data-1.csv,57,1,patient-data-1.csv,58,1,patient-data-1.csv,59,1,patient-data-1.csv,60,1,patient-data-1.csv,61,1,patient-data-1.csv,62,1,patient-data-1.csv,63,1,patient-data-1.csv,64,1,patient-data-1.csv,65,1,patient-data-1.csv,66,1,patient-data-1.csv,67,1,patient-data-1.csv,68,1,patient-data-1.csv,69,1,patient-data-1.csv,70,1,patient-data-1.csv,71,1,patient-data-1.csv,72,1,patient-data-1.csv,73,1,patient-data-1.csv,74,1,patient-data-1.csv,75,1,patient-data-1.csv,76,1,patient-data-1.csv,77,1,patient-data-1.csv,78,1,patient-data-1.csv,79,1,patient-data-1.csv,80,1,patient-data-1.csv,81,1,patient-data-1.csv,82,1,patient-data-1.csv,83,1,patient-data-1.csv,84,1,patient-data-1.csv,85,1,patient-data-1.csv,86,1,patient-data-1.csv,87,1,patient-data-1.csv,88,1,patient-data-1.csv,89,1,patient-data-1.csv,90,1,patient-data-1.csv,91,1,patient-data-1.csv,92,1,patient-data-1.csv,93,1,patient-data-1.csv,94,1,patient-data-1.csv,95,1,patient-data-1.csv,96,1,patient-data-1.csv,97,1,patient-data-1.csv,98,1,patient-data-1.csv,99,1,patient-data-1.csv,0,1,patient-data-2.csv,1,1,patient-data-2.csv,2,1,patient-data-2.csv,3,1,patient-data-2.csv,4,1,patient-data-2.csv,5,1,patient-data-2.csv,6,1,patient-data-2.csv,7,1,patient-data-2.csv,8,1,patient-data-2.csv,9,1,patient-data-2.csv,10,1,patient-data-2.csv,11,1,patient-data-2.csv,12,1,patient-data-2.csv,13,1,patient-data-2.csv,14,1,patient-data-2.csv,15,1,patient-data-2.csv,16,1,patient-data-2.csv,17,1,patient-data-2.csv,18,1,patient-data-2.csv,19,1,patient-data-2.csv,20,1,patient-data-2.csv,21,1,patient-data-2.csv,22,1,patient-data-2.csv,23,1,patient-data-2.csv,24,1,patient-data-2.csv,25,1,patient-data-2.csv,26,1,patient-data-2.csv,27,1,patient-data-2.csv,28,1,patient-data-2.csv,29,1,patient-data-2.csv,30,1,patient-data-2.csv,31,1,patient-data-2.csv,32,1,patient-data-2.csv,33,1,patient-data-2.csv,34,1,patient-data-2.csv,35,1,patient-data-2.csv,36,1,patient-data-2.csv,37,1,patient-data-2.csv,38,1,patient-data-2.csv,39,1,patient-data-2.csv,40,1,patient-data-2.csv,41,1,patient-data-2.csv,42,1,patient-data-2.csv,43,1,patient-data-2.csv,44,1,patient-data-2.csv,45,1,patient-data-2.csv,46,1,patient-data-2.csv,47,1,patient-data-2.csv,48,1,patient-data-2.csv,49,1,patient-data-2.csv,50,1,patient-data-2.csv,51,1,patient-data-2.csv,52,1,patient-data-2.csv,53,1,patient-data-2.csv,54,1,patient-data-2.csv,55,1,patient-data-2.csv,56,1,patient-data-2.csv,57,1,patient-data-2.csv,58,1,patient-data-2.csv,59,1,patient-data-2.csv,60,1,patient-data-2.csv,61,1,patient-data-2.csv,62,1,patient-data-2.csv,63,1,patient-data-2.csv,64,1,patient-data-2.csv,65,1,patient-data-2.csv,66,1,patient-data-2.csv,67,1,patient-data-2.csv,68,1,patient-data-2.csv,69,1,patient-data-2.csv,70,1,patient-data-2.csv,71,1,patient-data-2.csv,72,1,patient-data-2.csv,73,1,patient-data-2.csv,74,1,patient-data-2.csv,75,1,patient-data-2.csv,76,1,patient-data-2.csv,77,1,patient-data-2.csv,78,1,patient-data-2.csv,79,1,patient-data-2.csv,80,1,patient-data-2.csv,81,1,patient-data-2.csv,82,1,patient-data-2.csv,83,1,patient-data-2.csv,84,1,patient-data-2.csv,85,1,patient-data-2.csv,86,1,patient-data-2.csv,87,1,patient-data-2.csv,88,1,patient-data-2.csv,89,1,patient-data-2.csv,90,1,patient-data-2.csv,91,1,patient-data-2.csv,92,1,patient-data-2.csv,93,1,patient-data-2.csv,94,1,patient-data-2.csv,95,1,patient-data-2.csv,96,1,patient-data-2.csv,97,1,patient-data-2.csv,98,1,patient-data-2.csv,99,1,patient-data-2.csv,0,1,patient-data-3.csv,1,1,patient-data-3.csv,2,1,patient-data-3.csv,3,1,patient-data-3.csv,4,1,patient-data-3.csv,5,1,patient-data-3.csv,6,1,patient-data-3.csv,7,1,patient-data-3.csv,8,1,patient-data-3.csv,9,1,patient-data-3.csv,10,1,patient-data-3.csv,11,1,patient-data-3.csv,12,1,patient-data-3.csv,13,1,patient-data-3.csv,14,1,patient-data-3.csv,15,1,patient-data-3.csv,16,1,patient-data-3.csv,17,1,patient-data-3.csv,18,1,patient-data-3.csv,19,1,patient-data-3.csv,20,1,patient-data-3.csv,21,1,patient-data-3.csv,22,1,patient-data-3.csv,23,1,patient-data-3.csv,24,1,patient-data-3.csv,25,1,patient-data-3.csv,26,1,patient-data-3.csv,27,1,patient-data-3.csv,28,1,patient-data-3.csv,29,1,patient-data-3.csv,30,1,patient-data-3.csv,31,1,patient-data-3.csv,32,1,patient-data-3.csv,33,1,patient-data-3.csv,34,1,patient-data-3.csv,35,1,patient-data-3.csv,36,1,patient-data-3.csv,37,1,patient-data-3.csv,38,1,patient-data-3.csv,39,1,patient-data-3.csv,40,1,patient-data-3.csv,41,1,patient-data-3.csv,42,1,patient-data-3.csv,43,1,patient-data-3.csv,44,1,patient-data-3.csv,45,1,patient-data-3.csv,46,1,patient-data-3.csv,47,1,patient-data-3.csv,48,1,patient-data-3.csv,49,1,patient-data-3.csv,50,1,patient-data-3.csv,51,1,patient-data-3.csv,52,1,patient-data-3.csv,53,1,patient-data-3.csv,54,1,patient-data-3.csv,55,1,patient-data-3.csv,56,1,patient-data-3.csv,57,1,patient-data-3.csv,58,1,patient-data-3.csv,59,1,patient-data-3.csv,60,1,patient-data-3.csv,61,1,patient-data-3.csv,62,1,patient-data-3.csv,63,1,patient-data-3.csv,64,1,patient-data-3.csv,65,1,patient-data-3.csv,66,1,patient-data-3.csv,67,1,patient-data-3.csv,68,1,patient-data-3.csv,69,1,patient-data-3.csv,70,1,patient-data-3.csv,71,1,patient-data-3.csv,72,1,patient-data-3.csv,73,1,patient-data-3.csv,74,1,patient-data-3.csv,75,1,patient-data-3.csv,76,1,patient-data-3.csv,77,1,patient-data-3.csv,78,1,patient-data-3.csv,79,1,patient-data-3.csv,80,1,patient-data-3.csv,81,1,patient-data-3.csv,82,1,patient-data-3.csv,83,1,patient-data-3.csv,84,1,patient-data-3.csv,85,1,patient-data-3.csv,86,1,patient-data-3.csv,87,1,patient-data-3.csv,88,1,patient-data-3.csv,89,1,patient-data-3.csv,90,1,patient-data-3.csv,91,1,patient-data-3.csv,92,1,patient-data-3.csv,93,1,patient-data-3.csv,94,1,patient-data-3.csv,95,1,patient-data-3.csv,96,1,patient-data-3.csv,97,1,patient-data-3.csv,98,1,patient-data-3.csv,99,1,patient-data-3.csv,\u001b[0m\n\u001b[0m                      ^\u001b[0m\n\u001b[0;31mSyntaxError\u001b[0m\u001b[0;31m:\u001b[0m invalid decimal literal\n"
          ]
        }
      ],
      "source": [
        "from ast import literal_eval\n",
        "import pandas as pd\n",
        "\n",
        "score = pd.DataFrame(\n",
        "    literal_eval(data.replace(\"\\n\", \",\")), columns=[\"file\", \"prediction\"]\n",
        ")\n",
        "score"
      ]
    },
    {
      "cell_type": "code",
      "execution_count": null,
      "metadata": {},
      "outputs": [],
      "source": []
    }
  ],
  "metadata": {
    "kernel_info": {
      "name": "python38-azureml"
    },
    "kernelspec": {
      "display_name": "Python 3.8 - AzureML",
      "language": "python",
      "name": "python38-azureml"
    },
    "microsoft": {
      "host": {
        "AzureML": {
          "notebookHasBeenCompleted": true
        }
      }
    },
    "nteract": {
      "version": "nteract-front-end@1.0.0"
    },
    "vscode": {
      "interpreter": {
        "hash": "f2b2cd046deda8eabef1e765a11d0ec9aa9bd1d31d56ce79c815a38c323e14ec"
      }
    }
  },
  "nbformat": 4,
  "nbformat_minor": 2
}
